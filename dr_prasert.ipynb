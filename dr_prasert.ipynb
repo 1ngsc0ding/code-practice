{
 "cells": [
  {
   "cell_type": "code",
   "execution_count": 4,
   "metadata": {},
   "outputs": [
    {
     "name": "stdout",
     "output_type": "stream",
     "text": [
      "max value =  19\n"
     ]
    }
   ],
   "source": [
    "a = 15\n",
    "b = 7\n",
    "c = 19\n",
    "if a > b:\n",
    "    max = a\n",
    "else:\n",
    "    max = b\n",
    "if c > max:\n",
    "    max = c\n",
    "print(\"max value = \", max)"
   ]
  },
  {
   "cell_type": "code",
   "execution_count": 6,
   "metadata": {},
   "outputs": [
    {
     "name": "stdout",
     "output_type": "stream",
     "text": [
      "max value =  19\n",
      "min value =  7\n"
     ]
    }
   ],
   "source": [
    "nums = [15, 7, 19]\n",
    "max = nums[0]\n",
    "for n in nums:\n",
    "    if n > max:\n",
    "        max = n\n",
    "\n",
    "min = nums[0]\n",
    "for n in nums:\n",
    "    if n < min:\n",
    "        min = n\n",
    "\n",
    "print(\"max value = \", max)\n",
    "print(\"min value = \", min)"
   ]
  },
  {
   "cell_type": "code",
   "execution_count": 7,
   "metadata": {},
   "outputs": [
    {
     "name": "stdout",
     "output_type": "stream",
     "text": [
      "1\n",
      "2\n",
      "3\n",
      "4\n",
      "5\n",
      "6\n",
      "7\n",
      "8\n",
      "9\n",
      "10\n",
      "sum =  55\n"
     ]
    }
   ],
   "source": [
    "sum = 0\n",
    "for i in range(1, 11):\n",
    "    sum = sum + i\n",
    "    print(i)\n",
    "\n",
    "print(\"sum = \", sum)"
   ]
  },
  {
   "cell_type": "code",
   "execution_count": 10,
   "metadata": {},
   "outputs": [
    {
     "name": "stdout",
     "output_type": "stream",
     "text": [
      "12\n",
      "3.142857142857143\n",
      "45\n",
      "pikachu\n",
      "pikachu vs rhydon\n"
     ]
    }
   ],
   "source": [
    "print(3*4)\n",
    "p= 22/7\n",
    "print(p)\n",
    "q = 45\n",
    "print(q)\n",
    "m1 = \"pikachu\"\n",
    "m2 = 'rhydon'\n",
    "isAdult = True\n",
    "print(m1)\n",
    "print(m1 + \" vs \" + m2)"
   ]
  },
  {
   "cell_type": "code",
   "execution_count": 18,
   "metadata": {},
   "outputs": [
    {
     "name": "stdout",
     "output_type": "stream",
     "text": [
      "area = 12.0\n"
     ]
    }
   ],
   "source": [
    "w = input(\"width = \") \n",
    "h = input(\"height = \")\n",
    "print(\"area =\", float(w)*float(h))"
   ]
  },
  {
   "cell_type": "code",
   "execution_count": 19,
   "metadata": {},
   "outputs": [
    {
     "name": "stdout",
     "output_type": "stream",
     "text": [
      "20\n"
     ]
    }
   ],
   "source": [
    "def rectangle(w, h):\n",
    "    area = w * h\n",
    "    return area\n",
    "\n",
    "w = int(input(\"width = \"))\n",
    "h = int(input(\"height = \"))\n",
    "\n",
    "print(rectangle(w, h))"
   ]
  },
  {
   "cell_type": "code",
   "execution_count": 21,
   "metadata": {},
   "outputs": [
    {
     "name": "stdout",
     "output_type": "stream",
     "text": [
      "18.0\n"
     ]
    }
   ],
   "source": [
    "def rectangle(w, h):\n",
    "    area = w * h\n",
    "    return area\n",
    "\n",
    "def triangle(w, h):\n",
    "    area = w * h / 2\n",
    "    return area\n",
    "\n",
    "w = int(input(\"width = \"))\n",
    "h = int(input(\"height = \"))\n",
    "\n",
    "print(triangle(w, h))"
   ]
  },
  {
   "cell_type": "code",
   "execution_count": 26,
   "metadata": {},
   "outputs": [
    {
     "name": "stdout",
     "output_type": "stream",
     "text": [
      "Peter Parker\n",
      "inside fn() Mr. Peter Parker\n",
      "Mr. Peter Parker\n"
     ]
    }
   ],
   "source": [
    "x = \"Peter Parker\"\n",
    "\n",
    "def fn():\n",
    "    x = \"Spiderman\"\n",
    "    print(\"inside fn()\", x)\n",
    "\n",
    "def fn2():\n",
    "    x = \"Mr. \" + x\n",
    "    print(\"inside fn()\", x)\n",
    "\n",
    "def fn3():\n",
    "    global x\n",
    "    x = \"Mr. \" + x\n",
    "    print(\"inside fn()\", x)\n",
    "print(x)\n",
    "fn3()\n",
    "print(x)"
   ]
  },
  {
   "cell_type": "code",
   "execution_count": 30,
   "metadata": {},
   "outputs": [
    {
     "name": "stdout",
     "output_type": "stream",
     "text": [
      "600\n"
     ]
    }
   ],
   "source": [
    "def leap_year(year):\n",
    "    if year % 4 == 0:\n",
    "        return True\n",
    "    else:\n",
    "        return False\n",
    "\n",
    "def leap_year_buddhist(year):\n",
    "    if year % 4 == 3:\n",
    "        return True\n",
    "    else:\n",
    "        return False\n",
    "\n",
    "def is_even(n):\n",
    "    return True if n % 2 == 0 else False\n",
    "    # if n % 2 == 0:\n",
    "    #     return True\n",
    "    # else:\n",
    "        # return False\n",
    "\n",
    "def is_odd(n):\n",
    "    return not(is_even(n))\n",
    "    # if n % 2 == 0:\n",
    "    #     return True\n",
    "    # else:\n",
    "    #     return False\n",
    "\n",
    "def promotion(come, pay, per_head, pax):\n",
    "    # come 4, pay 2\n",
    "    # come 5, pay = ?\n",
    "    # per_head = 100\n",
    "    # 200 + 100\n",
    "    return (pax // come) * (pay * per_head) + (pax % come) * per_head\n",
    "\n",
    "# print(leap_year(2015))\n",
    "# print(leap_year_buddhist(2559))\n",
    "# print(is_even(5))\n",
    "# print(is_odd(5))\n",
    "print(promotion(4, 2, 100, 10))"
   ]
  },
  {
   "cell_type": "code",
   "execution_count": 33,
   "metadata": {},
   "outputs": [
    {
     "name": "stdout",
     "output_type": "stream",
     "text": [
      "2000\n"
     ]
    }
   ],
   "source": [
    "# come 3, pay 2\n",
    "# come 4, pay 3\n",
    "\n",
    "come_x = 4\n",
    "pay_y = 3\n",
    "per_head = 100\n",
    "pax = 9\n",
    "\n",
    "# print((pax // come_x) * (pay_y * per_head))\n",
    "# print(pax % come_x * per_head)\n",
    "# total = (pax // come_x) * (pay_y * per_head) + (pax % come_x * per_head)\n",
    "# print(total)\n",
    "\n",
    "def come_x_pay_y(pax, per_head, come_x = 4, pay_y = 3):\n",
    "    total = (pax // come_x) * (pay_y * per_head) + (pax % come_x * per_head)\n",
    "    return total\n",
    "\n",
    "print(come_x_pay_y(10, 250, 7, 5))"
   ]
  },
  {
   "cell_type": "code",
   "execution_count": 34,
   "metadata": {},
   "outputs": [
    {
     "name": "stdout",
     "output_type": "stream",
     "text": [
      "1. rectangle\n",
      "2. triangle คำนวณพื้นที่สามเหลี่ยม\n",
      "triangle area\n",
      "36.0\n"
     ]
    }
   ],
   "source": [
    "def rectangle(w, h):\n",
    "    area = w * h\n",
    "    return area\n",
    "\n",
    "def triangle(w, h):\n",
    "    return .5 * w * h\n",
    "\n",
    "print(\"1. rectangle\")\n",
    "print(\"2. triangle คำนวณพื้นที่สามเหลี่ยม\")\n",
    "n = input(\"please select option: \")\n",
    "w = int(input(\"width = \"))\n",
    "h = int(input(\"height = \"))\n",
    "if n == \"1\":\n",
    "    print(\"rectangle area\")\n",
    "    print(rectangle(w, h))\n",
    "else:\n",
    "    print(\"triangle area\")\n",
    "    print(triangle(w, h))\n"
   ]
  },
  {
   "cell_type": "code",
   "execution_count": 41,
   "metadata": {},
   "outputs": [
    {
     "name": "stdout",
     "output_type": "stream",
     "text": [
      "False\n",
      "bonjour\n",
      "None\n"
     ]
    }
   ],
   "source": [
    "def greeting(lang):\n",
    "    if lang == \"th\":\n",
    "        print(\"sawadee\")\n",
    "    else:\n",
    "        print(\"hello\")\n",
    "\n",
    "def greeting2(lang):\n",
    "    if lang == \"th\":\n",
    "        print(\"sawadee\")\n",
    "    elif lang == \"jp\":\n",
    "        print(\"konnichiwa\")\n",
    "    elif lang == \"fr\":\n",
    "        print(\"bonjour\")\n",
    "    else:\n",
    "        print(\"hello\")\n",
    "\n",
    "def meet_req(eng, interview):\n",
    "    if eng > 70 and interview > 80:\n",
    "        return True\n",
    "    else:\n",
    "        return False\n",
    "\n",
    "def meet_req2(eng, interview):\n",
    "    if eng > 70 and interview > 80 and math > 65:\n",
    "        return True\n",
    "    else:\n",
    "        return False\n",
    "\n",
    "\n",
    "print(meet_req2(70, 80))\n",
    "print(greeting2(\"fr\"))"
   ]
  },
  {
   "cell_type": "code",
   "execution_count": 48,
   "metadata": {},
   "outputs": [
    {
     "name": "stdout",
     "output_type": "stream",
     "text": [
      "ok\n",
      "100\n",
      "100\n"
     ]
    }
   ],
   "source": [
    "def ticket(age):\n",
    "    if age <= 5:\n",
    "        return True\n",
    "    else:\n",
    "        return False\n",
    "\n",
    "def ticket2(age):\n",
    "    if age <= 5 or age >= 60:\n",
    "        return 0\n",
    "    else:\n",
    "        return 100\n",
    "\n",
    "def ticket2a(age):\n",
    "    return 0 if age <= 5 or age >= 60 else 100\n",
    "\n",
    "def ticket3(age, is_local):\n",
    "    if (age <= 5 or age >= 60) and is_local:\n",
    "        return 0\n",
    "    else:\n",
    "        return 100\n",
    "\n",
    "def demo(a):\n",
    "    if a >= 10 and a <= 20:\n",
    "        print(\"ok\")\n",
    "    else:\n",
    "        print(\"not ok\")\n",
    "\n",
    "def demo2(a):\n",
    "    if 10 <= a <= 20:\n",
    "        print(\"ok\")\n",
    "    else:\n",
    "        print(\"not ok\")\n",
    "\n",
    "\n",
    "\n",
    "demo(18)\n",
    "print(ticket2(54))\n",
    "print(ticket3(3, False))"
   ]
  },
  {
   "cell_type": "code",
   "execution_count": 51,
   "metadata": {},
   "outputs": [
    {
     "name": "stdout",
     "output_type": "stream",
     "text": [
      "fee =  0\n",
      "fee =  0\n"
     ]
    }
   ],
   "source": [
    "# ค่าบริการพร้อมเพย์\n",
    "# ฟรีค่าธรรมเนียม เมื่อทำรายการไม่เกิน 5000 บาท\n",
    "# ค่าธรรมเนียม 2 บาท เมื่อทำรายการช่วง 5000 - 30000 บาท\n",
    "# ค่าธรรมเนียม 5 บาท เมื่อทำรายการช่วง 30000 - 100000 บาท\n",
    "# ค่าธรรมเนียม 10 บาท เมื่อทำรายการช่วง 100000 - วงเงินที่ธนาคารกำหนด\n",
    "\n",
    "atm = 3000\n",
    "fee = 0\n",
    "if atm <= 5000:\n",
    "    fee = 0\n",
    "elif 5000 < atm <= 30000:\n",
    "    fee = 2\n",
    "elif 30000 < atm <= 100000:\n",
    "    fee = 5\n",
    "else:\n",
    "    fee = 10\n",
    "\n",
    "print(\"fee = \", fee)\n",
    "\n",
    "def basic2():\n",
    "    atm = 6000\n",
    "    if atm > 10000:\n",
    "        fee = 10\n",
    "    elif atm > 30000:\n",
    "        fee = 5\n",
    "    elif atm > 5000:\n",
    "        fee = 2\n",
    "    else:\n",
    "        fee = 0\n",
    "\n",
    "print(\"fee = \", fee)\n",
    "\n",
    "if '_name_' == '_main_':\n",
    "    basic2()\n",
    "    "
   ]
  },
  {
   "cell_type": "code",
   "execution_count": 1,
   "metadata": {},
   "outputs": [
    {
     "name": "stdout",
     "output_type": "stream",
     "text": [
      "you: scissors <-> computer: paper -> you win\n"
     ]
    }
   ],
   "source": [
    "import random\n",
    "\n",
    "\n",
    "def play(player):\n",
    "    # m = (\"r\", \"p\", \"s\")\n",
    "    d = {\"r\": \"rock\", \"p\": \"paper\", \"s\": \"scissors\"}\n",
    "    computer = random.choice(list(d.keys()))\n",
    "    # computer = m[random.randrange(len(m))]\n",
    "    if player == computer:\n",
    "        result = \"tie\"\n",
    "    elif player == \"r\" and computer == \"s\":\n",
    "        result = \"you win\"\n",
    "    elif player == \"p\" and computer == \"r\":\n",
    "        result = \"you win\"\n",
    "    elif player == \"s\" and computer == \"p\":\n",
    "        result = \"you win\"\n",
    "    else:\n",
    "        result = \"you lose\"\n",
    "    print(\"you: {} <-> computer: {} -> {}\". format(d[player], d[computer], result))\n",
    "\n",
    "\n",
    "while True:\n",
    "    player = input(\"[r]ock, [p]aper, [s]cissors, e[x]it ->\")\n",
    "    if player == \"x\":\n",
    "        break\n",
    "    else:\n",
    "        play(player)"
   ]
  },
  {
   "cell_type": "code",
   "execution_count": 10,
   "metadata": {},
   "outputs": [
    {
     "name": "stdout",
     "output_type": "stream",
     "text": [
      "5.0\n",
      "3.0\n"
     ]
    }
   ],
   "source": [
    "# tuple\n",
    "\n",
    "# point = 1, 7\n",
    "# print(point[0])\n",
    "# print(point[1])\n",
    "\n",
    "# pointB = (1, 7)\n",
    "# print(pointB[1])\n",
    "\n",
    "# th = \"Thailand\", 5, 10, 15\n",
    "# print(th[1] + th[2] + th[3])\n",
    "\n",
    "# monsters = (\"pikachu\", \"bulbasaur\", \"eevee\")\n",
    "\n",
    "def distance(pointA, pointB):\n",
    "    return ((pointA[0] - pointB[0]) ** 2 + (pointA[1] - pointB[1]) ** 2) ** 0.5\n",
    "\n",
    "pointA = (1, 7)\n",
    "pointB = 5, 10\n",
    "d = distance(pointA, pointB)\n",
    "print(d)\n",
    "\n",
    "d2 = distance2(1, 7, 1, 10)\n",
    "print(d2)\n",
    "\n",
    "# immutable"
   ]
  },
  {
   "cell_type": "code",
   "execution_count": 15,
   "metadata": {},
   "outputs": [
    {
     "name": "stdout",
     "output_type": "stream",
     "text": [
      "loop is not in the sentence\n"
     ]
    }
   ],
   "source": [
    "# flowers = \"lily\", \"rose\", \"daisy\", \"tulip\"\n",
    "# if \"callas\" in flowers:\n",
    "#     print(\"available\")\n",
    "# else:\n",
    "#     print(\"not available\")\n",
    "\n",
    "sentence = \"To the moon and back\"\n",
    "a = str(input(\"word =\"))\n",
    "if a in sentence:\n",
    "    print(a + \" is in the sentence\")\n",
    "else:\n",
    "    print(a + \" is not in the sentence\")\n",
    "    "
   ]
  },
  {
   "cell_type": "code",
   "execution_count": 63,
   "metadata": {},
   "outputs": [
    {
     "name": "stdout",
     "output_type": "stream",
     "text": [
      "ดีปานกลาง\n"
     ]
    }
   ],
   "source": [
    "\"\"\"\n",
    "    # เลขผลรวมดีมาก ได้แก่ 9, 14, 15, 19, 23, 24, 32, 36, 40, 41, 42, 44, 45, 46, 50, 51, 54, 55, 56, 59, 63, 64, 65  ให้คุณระดับดีมาก\n",
    "                                           69, 79 โอกาสประสบผลสำเร็จสูง อุปสรรคน้อย เจริญรุ่งเรือง ร่ำรวย รวดเร็ว และมีความสุข\n",
    "    # เลขผลรวมดีปานกลาง ได้แก่ 10, 13, 16, 18, 20, 22, 25, 26, 28, 31, 35, 38, 39, 47, 49, 52, 53, 57, 58, 60, 61  ให้คุณระดับดีปานกลาง\n",
    "                                           62, 66, 68, 74, 75 เหนื่อย มีอุปสรรค แต่ยังมีโอกาสประสบผลสำเร็จ หากมีความพยายาม\n",
    "    # เลขผลรวมไม่ดี ได้แก่ 11, 12, 17, 21, 27, 29, 30, 33, 34, 37, 43, 48, 67, 70, 71, 72, 73, 76, 77, 78, 80 (ให้โทษ ใครได้ผลรวมเหล่านี้ควรเปลี่ยน)\n",
    "                                           เหนื่อยมาก อุปสรรคมาก เจอปัญหารุมเร้า การงาน การเงิน ความรัก เกิดอุบัติเหตุชีวิตไม่จบไม่สิ้น\n",
    "\"\"\"\n",
    "\n",
    "def sum_phone_digit(phone_number):\n",
    "    total = 0\n",
    "    for c in phone_number:\n",
    "        total += int(c)\n",
    "    return total\n",
    "\n",
    "def interpret(number):\n",
    "    meaning = \"\"\n",
    "    if number in (9, 14, 15, 19, 23, 24, 32, 36, 40, 41, 42, 44, 45, 46, 50, 51, 54, 55, 56, 59, 63, 64, 65):\n",
    "        meaning = \"ดีมาก\"\n",
    "    elif number in (69, 79):\n",
    "        meaning = \"โอกาสประสบผลสำเร็จสูง อุปสรรคน้อย เจริญรุ่งเรือง ร่ำรวย รวดเร็ว และมีความสุข\"\n",
    "    elif number in (10, 13, 16, 18, 20, 22, 25, 26, 28, 31, 35, 38, 39, 47, 49, 52, 53, 57, 58, 60, 61):\n",
    "        meaning = \"ดีปานกลาง\"\n",
    "    elif number in (62, 66, 68, 74, 75):\n",
    "        meaning = \"เหนื่อย มีอุปสรรค แต่ยังมีโอกาสประสบความสำเร็จ หากพยายาม\"\n",
    "    elif number in (11, 12, 17, 21, 27, 29, 30, 33, 34, 37, 43, 48, 67, 70, 71, 72, 73, 76, 77, 78, 80):\n",
    "        meaning = \"ไม่ดี เหนื่อยมาก อุปสรรคมาก เจอปัญหารุมเร้า การงาน การเงิน ความรัก เกิดอุบัติเหตุชีวิตไม่จบไม่สิ้น\"\n",
    "    return meaning\n",
    "\n",
    "\n",
    "\n",
    "phone = input(\"Enter phone number: \")\n",
    "print(interpret(sum_phone_digit(phone)))\n"
   ]
  },
  {
   "cell_type": "code",
   "execution_count": 37,
   "metadata": {},
   "outputs": [
    {
     "name": "stdout",
     "output_type": "stream",
     "text": [
      "1. convert Celsius to Fahrenheit\n",
      "2. display temperature table\n",
      "0C = 32.0F\n",
      "5C = 41.0F\n",
      "10C = 50.0F\n",
      "15C = 59.0F\n",
      "20C = 68.0F\n",
      "25C = 77.0F\n",
      "30C = 86.0F\n",
      "35C = 95.0F\n",
      "40C = 104.0F\n",
      "45C = 113.0F\n",
      "50C = 122.0F\n",
      "55C = 131.0F\n",
      "60C = 140.0F\n",
      "65C = 149.0F\n",
      "70C = 158.0F\n",
      "75C = 167.0F\n",
      "80C = 176.0F\n",
      "85C = 185.0F\n",
      "90C = 194.0F\n",
      "95C = 203.0F\n",
      "100C = 212.0F\n"
     ]
    }
   ],
   "source": [
    "def celsius_to_fah(celsius):\n",
    "    return (celsius * 9 / 5) + 32\n",
    "\n",
    "def temperature_table():  # void function in C, Java\n",
    "    for c in range(0, 101, 5):\n",
    "        f = celsius_to_fah(c)\n",
    "        print(\"{}C = {}F\".format(c, f))\n",
    "    # return None\n",
    "\n",
    "def menu(): # void (return None)\n",
    "    print(\"1. convert Celsius to Fahrenheit\")\n",
    "    print(\"2. display temperature table\")\n",
    "    n = input(\"enter choice: \")\n",
    "    if n == \"1\":\n",
    "        celsius = float(input(\"enter degree in Celsius: \"))\n",
    "        print(\"{}C = {}F\".format(celsius, celsius_to_fah(celsius)))\n",
    "    elif n == \"2\":\n",
    "        temperature_table()\n",
    "\n",
    "# f = celsius_to_fah(100)\n",
    "# print(f)\n",
    "# a = temperature_table()\n",
    "# print(a)\n",
    "menu()"
   ]
  },
  {
   "cell_type": "code",
   "execution_count": 40,
   "metadata": {},
   "outputs": [
    {
     "name": "stdout",
     "output_type": "stream",
     "text": [
      "(100.0, 7.0)\n",
      "<class 'tuple'>\n",
      "(186.9158878504673, 13.08411214953271)\n",
      "price =  186.9158878504673\n",
      "vat =  13.08411214953271\n",
      "p =  186.9158878504673\n",
      "v =  13.08411214953271\n",
      "(2, 1, 56)\n",
      "2-1-56\n"
     ]
    }
   ],
   "source": [
    "def price_with_vat(amount):\n",
    "    vat = amount * 7 / 107\n",
    "    price = amount - vat\n",
    "    # t = price, vat\n",
    "    # return t\n",
    "    return price, vat\n",
    "\n",
    "print(price_with_vat(107))\n",
    "a = price_with_vat(200)\n",
    "print(type(a))\n",
    "print(a)\n",
    "print(\"price = \", a[0])\n",
    "print(\"vat = \", a[1])\n",
    "p, v = price_with_vat(200)\n",
    "print(\"p = \", p)\n",
    "print(\"v = \", v) \n",
    "\n",
    "def thai_area(sqwa):\n",
    "    rai = sqwa // 400\n",
    "    ngan = (sqwa - (rai * 400)) // 100\n",
    "    wa = sqwa % 100\n",
    "    return rai, ngan, wa\n",
    "\n",
    "a = 956\n",
    "print(thai_area(a))\n",
    "r, n, w = thai_area(a)\n",
    "print(r, n, w, sep = \"-\")"
   ]
  },
  {
   "cell_type": "code",
   "execution_count": 50,
   "metadata": {},
   "outputs": [],
   "source": [
    "from datetime import date\n",
    "\n",
    "def alpha(a, b):\n",
    "    c = a + b\n",
    "    print(c)\n",
    "\n",
    "def beta(a: str, b: int, c):\n",
    "    # print(a.upper())\n",
    "    print(a, b, c)\n",
    "\n",
    "def gamma(a: date, b):\n",
    "    print(a.year)\n",
    "    print(b.year)\n",
    "\n",
    "def bar(a, b) -> str:\n",
    "    return a + b\n",
    "\n",
    "class Person:\n",
    "    def __init__(self, fname, lname, age):\n",
    "        self.fname = fname\n",
    "        self.lname = lname\n",
    "        self.age = age\n",
    "\n",
    "    def foo(self):\n",
    "        print(\"hello\")\n",
    "\n",
    "def epsilon(a: Person, b):\n",
    "    a.foo()\n",
    "\n",
    "if __name__ == '__main__':\n",
    "    # alpha(5, 3)\n",
    "    # alpha(\"rain\", \"bow\")\n",
    "    # beta(3, \"bow\", 77)\n",
    "    # t1 = date(2016, 7, 20)\n",
    "    # t2 = date(2017, 1, 9)\n",
    "    # gamma(t1, t2)\n",
    "    p = Person(\"Peter\", \"Parker\", 26)"
   ]
  },
  {
   "cell_type": "code",
   "execution_count": 62,
   "metadata": {},
   "outputs": [
    {
     "name": "stdout",
     "output_type": "stream",
     "text": [
      "1. Lily\n",
      "2. Jasmine\n",
      "3. Rose\n",
      "4. Ivy\n"
     ]
    }
   ],
   "source": [
    "def loop1():\n",
    "    for i in range(1): #for(i = 0; i<11;i++)\n",
    "        print(i)\n",
    "\n",
    "def loop2():\n",
    "    for i in range(1,11): #for(i = 0; i<11;i++)\n",
    "        print(i)\n",
    "\n",
    "def loop3():\n",
    "    for i in range(1,11,2): #for(i = 0; i)\n",
    "        print(i)\n",
    "        print(\"-------------------\")\n",
    "    print(\"bye\")\n",
    "\n",
    "def loop_string():\n",
    "    s = \"over the rainbow\"\n",
    "    for c in s:\n",
    "        print(c.upper())\n",
    "\n",
    "def loop_tuple():\n",
    "    flowers = \"lily\", \"jasmine\", \"rose\", \"ivy\"\n",
    "    for f in (flowers):\n",
    "        print(f.capitalize())\n",
    "\n",
    "def loop_tuple2():\n",
    "    flowers = \"lily\", \"jasmine\", \"rose\", \"ivy\"\n",
    "    for i in range(len(flowers)):\n",
    "        print(i+1, flowers[i].capitalize(), sep=\". \")\n",
    "\n",
    "# loop3()\n",
    "# loop_string()\n",
    "# loop_tuple()\n",
    "loop_tuple2()"
   ]
  },
  {
   "cell_type": "code",
   "execution_count": 73,
   "metadata": {},
   "outputs": [
    {
     "name": "stdout",
     "output_type": "stream",
     "text": [
      "00000\n",
      "10000000000000000000000000000000000000000000000000000000000000000000000000000000000000000000000000000\n"
     ]
    }
   ],
   "source": [
    "# # Google (googol) = 1e100 = 1 * (10 ** 100)\n",
    "# print(\"1\" + (\"0\" * 100))\n",
    "\n",
    "# # string.format\n",
    "# print(\"1{0}\".format(\"0\" * 100))\n",
    "\n",
    "# # f-string\n",
    "# print(f\"1{'0' * 100}\")\n",
    "\n",
    "def demo2():\n",
    "    print(\"1\", end='')\n",
    "    for i in range(100):\n",
    "        print(\"0\", end='')\n",
    "\n",
    "def repeat(ch, times):\n",
    "    for i in range(times):\n",
    "        print(ch, end='')\n",
    "\n",
    "def repeat2(ch, times):\n",
    "    s = \"\"\n",
    "    for i in range(times):\n",
    "        s += ch\n",
    "    return s\n",
    "\n",
    "# demo2()\n",
    "# print(\"1\", end='')\n",
    "print(repeat2(\"0\", 5))\n",
    "print('1' + repeat2(\"0\", 100))"
   ]
  },
  {
   "cell_type": "code",
   "execution_count": 10,
   "metadata": {},
   "outputs": [
    {
     "name": "stdout",
     "output_type": "stream",
     "text": [
      "60\n",
      "10\n"
     ]
    },
    {
     "ename": "",
     "evalue": "",
     "output_type": "error",
     "traceback": [
      "\u001b[1;31mThe Kernel crashed while executing code in the current cell or a previous cell. \n",
      "\u001b[1;31mPlease review the code in the cell(s) to identify a possible cause of the failure. \n",
      "\u001b[1;31mClick <a href='https://aka.ms/vscodeJupyterKernelCrash'>here</a> for more info. \n",
      "\u001b[1;31mView Jupyter <a href='command:jupyter.viewOutput'>log</a> for further details."
     ]
    }
   ],
   "source": [
    "# 5! = 1 x 2 x 3 x 4 x 5\n",
    "# 0! = 1\n",
    "import math\n",
    "\n",
    "\n",
    "def fact(n):\n",
    "    if n >= 0:\n",
    "        if n == 0 or n == 1:\n",
    "            return 1\n",
    "        else:\n",
    "            f = 1\n",
    "            for i in range(2, n + 1):\n",
    "                f = f * i\n",
    "            return f\n",
    "    else:\n",
    "        return math.nan  # not a number\n",
    "\n",
    "\n",
    "def permut(n, k):\n",
    "    # n = 10 (0-9)\n",
    "    # k =  3\n",
    "    return fact(n) // fact(n - k)\n",
    "\n",
    "\n",
    "def combin(n, k):\n",
    "    # return fact(n) / (fact(k)*fact(n-k))\n",
    "    return permut(n, k) // fact(k)\n",
    "\n",
    "\n",
    "if __name__ == '__main__':\n",
    "    # print(fact(5))\n",
    "    # print(fact(1))\n",
    "    # print(fact(0))\n",
    "    # print(fact(-7))                                                                                            \n",
    "    print(permut(5, 3))\n",
    "    print(combin(5, 3))"
   ]
  },
  {
   "cell_type": "code",
   "execution_count": 3,
   "metadata": {},
   "outputs": [
    {
     "name": "stdout",
     "output_type": "stream",
     "text": [
      "2 * 1 = 2\n",
      "2 * 2 = 4\n",
      "2 * 3 = 6\n",
      "2 * 4 = 8\n",
      "2 * 5 = 10\n",
      "2 * 6 = 12\n",
      "2 * 7 = 14\n",
      "2 * 8 = 16\n",
      "2 * 9 = 18\n",
      "2 * 10 = 20\n",
      "2 * 11 = 22\n",
      "2 * 12 = 24\n",
      "3 * 1 = 3\n",
      "3 * 2 = 6\n",
      "3 * 3 = 9\n",
      "3 * 4 = 12\n",
      "3 * 5 = 15\n",
      "3 * 6 = 18\n",
      "3 * 7 = 21\n",
      "3 * 8 = 24\n",
      "3 * 9 = 27\n",
      "3 * 10 = 30\n",
      "3 * 11 = 33\n",
      "3 * 12 = 36\n",
      "----------------------------------------\n"
     ]
    }
   ],
   "source": [
    "def temperature_table():\n",
    "    for celsius in range(101):\n",
    "        f = (celsius * 9 / 5) + 32\n",
    "        # print(celsius, \"-\", f)\n",
    "        print(\"{}C = {:.2}F\".format(celcius, f))\n",
    "\n",
    "# temperature_table()\n",
    "\n",
    "def mult_table(from_n, to_n):\n",
    "    for i in range(from_n, to_n + 1):\n",
    "        for j in range(1, 13):\n",
    "            print(\"{} * {} = {}\".format(i, j, i * j))\n",
    "\n",
    "    print(\"-\" * 40)\n",
    "\n",
    "mult_table(2, 3)"
   ]
  },
  {
   "cell_type": "code",
   "execution_count": 9,
   "metadata": {},
   "outputs": [
    {
     "name": "stdout",
     "output_type": "stream",
     "text": [
      "['A♠', '2♠', '3♠', '4♠', '5♠', '6♠', '7♠', '8♠', '9♠', '10♠', 'J♠', 'Q♠', 'K♠', 'A♥', '2♥', '3♥', '4♥', '5♥', '6♥', '7♥', '8♥', '9♥', '10♥', 'J♥', 'Q♥', 'K♥', 'A♦', '2♦', '3♦', '4♦', '5♦', '6♦', '7♦', '8♦', '9♦', '10♦', 'J♦', 'Q♦', 'K♦', 'A♣', '2♣', '3♣', '4♣', '5♣', '6♣', '7♣', '8♣', '9♣', '10♣', 'J♣', 'Q♣', 'K♣']\n",
      "['Q♦', '8♦', 'J♠', 'J♣', 'K♣', 'J♦', '10♥', 'K♦', 'Q♠', '3♦', '9♣', '4♥', '6♥', '6♦', '2♦', 'A♠', '9♦', '9♠', 'A♣', '4♣', '5♦', '4♠', '10♠', '3♣', '6♠', '5♠', '8♣', 'J♥', 'A♦', '4♦', 'K♠', '8♥', '8♠', '2♠', '5♣', '7♣', '3♠', '7♠', '10♣', '2♥', '9♥', 'Q♣', 'Q♥', '6♣', '7♥', 'K♥', '5♥', '7♦', 'A♥', '10♦', '2♣', '3♥']\n",
      "['7♥', 'K♦', '2♦', '7♠', 'A♠', '8♠', 'K♠', '8♥', '6♣']\n"
     ]
    }
   ],
   "source": [
    "import random\n",
    "\n",
    "def playing_card():\n",
    "    suit = (\"\\u2660\", \"\\u2665\", \"\\u2666\", \"\\u2663\")\n",
    "    # print(suit)\n",
    "    # rank = '2', '3', '4', '5', '6', '7', '8', '9', '10', 'J', 'Q', 'K', 'A'\n",
    "    rank = list(\"A23456789\") + [\"10\"] + list(\"JQK\")\n",
    "    # print(rank)\n",
    "    deck = []\n",
    "    for s in suit:\n",
    "        for r in rank:\n",
    "            deck.append(r + s)\n",
    "    return(deck)\n",
    "\n",
    "d = playing_card()\n",
    "print(d)\n",
    "random.shuffle(d)\n",
    "print(d)\n",
    "p = random.sample(d, 9)\n",
    "print(p)"
   ]
  },
  {
   "cell_type": "code",
   "execution_count": 14,
   "metadata": {},
   "outputs": [
    {
     "name": "stdout",
     "output_type": "stream",
     "text": [
      "total =  10\n"
     ]
    }
   ],
   "source": [
    "def demo1():\n",
    "    i = 1\n",
    "    while i <= 10:\n",
    "        print(i)\n",
    "        i += 1 # i = i + 1\n",
    "    print(\"over\")\n",
    "\n",
    "def demo_for():\n",
    "    for i in range(1, 11):\n",
    "        print(i)\n",
    "    print(\"over\")\n",
    "\n",
    "def sum_input():\n",
    "    n = int(input(\"enter num: \"))\n",
    "    total = 0\n",
    "    while n != 0:\n",
    "        total += n\n",
    "        n = int(input(\"enter num: \"))\n",
    "    print(\"total = \", total)\n",
    "\n",
    "def sum_input_repeat_until():\n",
    "    total = 0\n",
    "    while True:\n",
    "        n = int(input(\"enter num: \"))\n",
    "        if n != 0:\n",
    "            total += n\n",
    "        else:\n",
    "            break\n",
    "        print(\"total = \", total)\n",
    "\n",
    "sum_input()"
   ]
  },
  {
   "cell_type": "code",
   "execution_count": 24,
   "metadata": {},
   "outputs": [
    {
     "name": "stdout",
     "output_type": "stream",
     "text": [
      "  0   1   2   3   4   5   6 \n",
      " -7  -6  -5  -4  -3  -2  -1 \n",
      "  r   a   i   n   b   o   w \n"
     ]
    }
   ],
   "source": [
    "# s = \"rain\"\n",
    "# t = 'bow'\n",
    "# print(s)\n",
    "# print(t)\n",
    "# print(s + t)\n",
    "# print(\"-\" * 20)\n",
    "# line = \"<>\" * 10\n",
    "# print(line)\n",
    "# a = s + t\n",
    "# print(a)\n",
    "# print(\"Bow\" in a)\n",
    "\n",
    "def slice():\n",
    "    r = \"0123456\"\n",
    "    s = \"rainbow\"\n",
    "    # print(s[0])\n",
    "    # print(s[0:4])\n",
    "    # print(s[0:4:2])\n",
    "    # print(s[0::2])\n",
    "    # print(s[6])\n",
    "    # print(s[-1])\n",
    "    print(s[-3:])\n",
    "    print(s[-7:-3])\n",
    "    print(s[::-1])\n",
    "\n",
    "def print_string(s):\n",
    "    for i in range(len(s)):\n",
    "        print(\"{:>3} \".format(i), end=\"\")\n",
    "    print()\n",
    "    for i in range(-len(s), 0, 1):\n",
    "        print(\"{:>3} \".format(i), end=\"\")\n",
    "    print()\n",
    "    for c in s:\n",
    "        print(\"{:>3} \".format(c), end=\"\")\n",
    "    print()\n",
    "\n",
    "# slice()\n",
    "print_string(\"rainbow\")"
   ]
  },
  {
   "cell_type": "code",
   "execution_count": 31,
   "metadata": {},
   "outputs": [
    {
     "name": "stdout",
     "output_type": "stream",
     "text": [
      "234,322.76\n",
      "1,234.50\n",
      "343.25\n",
      "--------------------------------------------------\n",
      "     234,322.76\n",
      "       1,234.50\n",
      "         343.25\n"
     ]
    }
   ],
   "source": [
    "def demo():    \n",
    "    first_name = \"peter\"\n",
    "    last_name = \"parker\"\n",
    "    age = 21\n",
    "\n",
    "    print(first_name, last_name, age)\n",
    "    print(\"{} {} {}\".format(first_name, last_name, age))\n",
    "    print(\"{0} {1} age: {2}\".format(first_name, last_name, age))\n",
    "    print(\"{1} {0} age: {2}\".format(first_name, last_name, age))\n",
    "\n",
    "def demo_number():\n",
    "    # n = 1218123000\n",
    "    # print(\"{}\".format(n))\n",
    "    # print(\"{:,}\".format(n))\n",
    "\n",
    "    d = 234322.756321\n",
    "    a = 1234.50\n",
    "    b = 343.25\n",
    "    # print(\"{}\".format(d))\n",
    "    # print(\"{:.2f}\".format(d))\n",
    "    print(\"{:,.2f}\".format(d))\n",
    "    print(\"{:,.2f}\".format(a))\n",
    "    print(\"{:,.2f}\".format(b))\n",
    "\n",
    "    print(\"-\" * 50)\n",
    "    print(\"{:15,.2f}\".format(d)) #:20 คือ กำหนดความกว้างของข้อความและ .2f คือ กำหนดจำนวนจุดทศนิยม 2 ตำแหน่ง เช่น 0.00\n",
    "    print(\"{:=15,.2f}\".format(a))\n",
    "    print(\"{:15,.2f}\".format(b))\n",
    "\n",
    "demo_number()"
   ]
  },
  {
   "cell_type": "code",
   "execution_count": 35,
   "metadata": {},
   "outputs": [
    {
     "name": "stdout",
     "output_type": "stream",
     "text": [
      " 65 0b1000001 0101 0x41 41 A\n",
      " 66 0b1000010 0102 0x42 42 B\n",
      " 67 0b1000011 0103 0x43 43 C\n",
      " 68 0b1000100 0104 0x44 44 D\n",
      " 69 0b1000101 0105 0x45 45 E\n",
      " 70 0b1000110 0106 0x46 46 F\n",
      " 71 0b1000111 0107 0x47 47 G\n",
      " 72 0b1001000 0110 0x48 48 H\n",
      " 73 0b1001001 0111 0x49 49 I\n",
      " 74 0b1001010 0112 0x4a 4a J\n",
      " 75 0b1001011 0113 0x4b 4b K\n",
      " 76 0b1001100 0114 0x4c 4c L\n",
      " 77 0b1001101 0115 0x4d 4d M\n",
      " 78 0b1001110 0116 0x4e 4e N\n",
      " 79 0b1001111 0117 0x4f 4f O\n",
      " 80 0b1010000 0120 0x50 50 P\n",
      " 81 0b1010001 0121 0x51 51 Q\n",
      " 82 0b1010010 0122 0x52 52 R\n",
      " 83 0b1010011 0123 0x53 53 S\n",
      " 84 0b1010100 0124 0x54 54 T\n",
      " 85 0b1010101 0125 0x55 55 U\n",
      " 86 0b1010110 0126 0x56 56 V\n",
      " 87 0b1010111 0127 0x57 57 W\n",
      " 88 0b1011000 0130 0x58 58 X\n",
      " 89 0b1011001 0131 0x59 59 Y\n",
      " 90 0b1011010 0132 0x5a 5a Z\n",
      " 91 0b1011011 0133 0x5b 5b [\n",
      " 92 0b1011100 0134 0x5c 5c \\\n",
      " 93 0b1011101 0135 0x5d 5d ]\n",
      " 94 0b1011110 0136 0x5e 5e ^\n",
      " 95 0b1011111 0137 0x5f 5f _\n",
      " 96 0b1100000 0140 0x60 60 `\n",
      " 97 0b1100001 0141 0x61 61 a\n",
      " 98 0b1100010 0142 0x62 62 b\n",
      " 99 0b1100011 0143 0x63 63 c\n",
      "100 0b1100100 0144 0x64 64 d\n",
      "101 0b1100101 0145 0x65 65 e\n",
      "102 0b1100110 0146 0x66 66 f\n",
      "103 0b1100111 0147 0x67 67 g\n",
      "104 0b1101000 0150 0x68 68 h\n",
      "105 0b1101001 0151 0x69 69 i\n",
      "106 0b1101010 0152 0x6a 6a j\n",
      "107 0b1101011 0153 0x6b 6b k\n",
      "108 0b1101100 0154 0x6c 6c l\n",
      "109 0b1101101 0155 0x6d 6d m\n",
      "110 0b1101110 0156 0x6e 6e n\n",
      "111 0b1101111 0157 0x6f 6f o\n",
      "112 0b1110000 0160 0x70 70 p\n",
      "113 0b1110001 0161 0x71 71 q\n",
      "114 0b1110010 0162 0x72 72 r\n",
      "115 0b1110011 0163 0x73 73 s\n",
      "116 0b1110100 0164 0x74 74 t\n",
      "117 0b1110101 0165 0x75 75 u\n",
      "118 0b1110110 0166 0x76 76 v\n",
      "119 0b1110111 0167 0x77 77 w\n",
      "120 0b1111000 0170 0x78 78 x\n",
      "121 0b1111001 0171 0x79 79 y\n",
      "122 0b1111010 0172 0x7a 7a z\n",
      "123 0b1111011 0173 0x7b 7b {\n",
      "124 0b1111100 0174 0x7c 7c |\n",
      "125 0b1111101 0175 0x7d 7d }\n",
      "126 0b1111110 0176 0x7e 7e ~\n",
      "127 0b1111111 0177 0x7f 7f \n"
     ]
    }
   ],
   "source": [
    "def demo():\n",
    "    print(\"{}{}\".format(\"th\", \"Thailand\"))\n",
    "    print(\"{:5}|{:15}|\".format(\"th\", \"Thailand\"))\n",
    "    print(\"{:<5}|{:<15}|\".format(\"th\", \"Thailand\"))\n",
    "    print(\"{:>5}|{:>15}|\".format(\"th\", \"Thailand\"))\n",
    "    print(\"{:*>5}|{:->15}|\".format(\"th\", \"Thailand\"))\n",
    "    print(\"{:^5}|{:^15}|\".format(\"th\", \"Thailand\"))\n",
    "\n",
    "def mult_table(n):\n",
    "    for i in range(1, 13):\n",
    "        print(\"{} x {:3} = {:3}\".format(n, i, n*i))\n",
    "\n",
    "def ascii_table():\n",
    "    for i in range(65, 128):\n",
    "        print(\"{0:3} {0:#08b} {0:04o} {0:#x} {0:x} {0:c}\".format(i))\n",
    "   \n",
    "def demo_dict():\n",
    "    menu = {\"name\": \"mocha\", \"price\": 40, \"size\": \"large\"}\n",
    "    print(menu[\"name\"])\n",
    "    print(\"menu name = {} price = {}\".format(menu[\"name\"], menu[\"price\"]))\n",
    "    print(\"menu name = {name}({size}) price = {price}\".format(**menu))\n",
    "\n",
    "# demo()\n",
    "# mult_table(12)\n",
    "ascii_table()"
   ]
  },
  {
   "cell_type": "code",
   "execution_count": 1,
   "metadata": {},
   "outputs": [
    {
     "name": "stdout",
     "output_type": "stream",
     "text": [
      "adb\n"
     ]
    }
   ],
   "source": [
    "x = input(\"abckddiafdfd\")\n",
    "print(x)"
   ]
  },
  {
   "cell_type": "code",
   "execution_count": 61,
   "metadata": {},
   "outputs": [
    {
     "name": "stdout",
     "output_type": "stream",
     "text": [
      "<class 'str'>\n"
     ]
    }
   ],
   "source": [
    "print(type(\"e[x]it\"))"
   ]
  },
  {
   "cell_type": "code",
   "execution_count": null,
   "metadata": {},
   "outputs": [],
   "source": [
    "turn on laptop computer ของแม่ให้หน่อย\n",
    "เปิดแล้ว "
   ]
  }
 ],
 "metadata": {
  "kernelspec": {
   "display_name": "base",
   "language": "python",
   "name": "python3"
  },
  "language_info": {
   "codemirror_mode": {
    "name": "ipython",
    "version": 3
   },
   "file_extension": ".py",
   "mimetype": "text/x-python",
   "name": "python",
   "nbconvert_exporter": "python",
   "pygments_lexer": "ipython3",
   "version": "3.8.5"
  }
 },
 "nbformat": 4,
 "nbformat_minor": 2
}
